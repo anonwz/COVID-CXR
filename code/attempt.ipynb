{
  "cells": [
    {
      "cell_type": "code",
      "execution_count": null,
      "metadata": {
        "id": "eIjlivS1dW3n"
      },
      "outputs": [],
      "source": [
        "pip uninstall tf-nightly"
      ]
    },
    {
      "cell_type": "code",
      "execution_count": null,
      "metadata": {
        "id": "MProKWA8jmIM"
      },
      "outputs": [],
      "source": [
        "!pip install tensorflow"
      ]
    },
    {
      "cell_type": "code",
      "execution_count": null,
      "metadata": {
        "id": "1z6emxfu0H-G"
      },
      "outputs": [],
      "source": [
        "import os\n",
        "import tensorflow as tf\n",
        "import IPython\n",
        "import numpy as np\n",
        "import pandas as pd\n",
        "import random\n",
        "import cv2\n",
        "import matplotlib.pyplot as plt\n",
        "%matplotlib inline\n",
        "from keras.preprocessing.image import ImageDataGenerator\n",
        "# Deep learning libraries\n",
        "#import keras.backend as K\n",
        "from tensorflow.keras.models import Model, Sequential\n",
        "from tensorflow.keras.layers import Input, Dense, Flatten, Dropout, BatchNormalization\n",
        "from tensorflow.keras.layers import Conv2D, SeparableConv2D, MaxPool2D, LeakyReLU, Activation\n",
        "from tensorflow.keras.optimizers import Adam\n",
        "from tensorflow.keras.preprocessing.image import ImageDataGenerator\n",
        "from tensorflow.keras.callbacks import ModelCheckpoint, ReduceLROnPlateau, EarlyStopping\n",
        "import tensorflow as tf\n",
        "from sklearn.metrics import confusion_matrix, ConfusionMatrixDisplay\n",
        "# Setting seeds for reproducibility\n",
        "seed = 69\n",
        "np.random.seed(seed)\n",
        "tf.random.set_seed(seed)\n"
      ]
    },
    {
      "cell_type": "code",
      "execution_count": null,
      "metadata": {
        "colab": {
          "base_uri": "https://localhost:8080/"
        },
        "id": "qNQdyg_E0Lk2",
        "outputId": "8464e219-50f3-440e-c082-c409eda2ba9f"
      },
      "outputs": [
        {
          "output_type": "stream",
          "name": "stdout",
          "text": [
            "Mounted at /content/drive\n"
          ]
        }
      ],
      "source": [
        "input_path = '/content/drive/My Drive/xncvfin'\n",
        "from google.colab import drive\n",
        "drive.mount('/content/drive')"
      ]
    },
    {
      "cell_type": "code",
      "execution_count": null,
      "metadata": {
        "colab": {
          "base_uri": "https://localhost:8080/"
        },
        "id": "ly-mRfy50XxG",
        "outputId": "a0f48e1e-7ebe-484d-d3e1-83dcf714dcfe"
      },
      "outputs": [
        {
          "output_type": "stream",
          "name": "stdout",
          "text": [
            "train 41 130 238 198 211 222 293 278 310 282 313 284 254 209 187 132 92 48 18\n",
            "test 10 33 59 48 51 55 74 69 77 69 78 70 62 52 46 32 23 12 5\n"
          ]
        }
      ],
      "source": [
        "for st in ['train', 'test']:\n",
        "    n_0 = len(os.listdir(input_path + '/' + st + '/0'))\n",
        "    n_1 = len(os.listdir(input_path + '/' + st + '/1'))\n",
        "    n_2 = len(os.listdir(input_path + '/' + st + '/2'))\n",
        "    n_3 = len(os.listdir(input_path + '/' + st + '/3'))\n",
        "    n_4 = len(os.listdir(input_path + '/' + st + '/4'))\n",
        "    n_5 = len(os.listdir(input_path + '/' + st + '/5'))\n",
        "    n_6 = len(os.listdir(input_path + '/' + st + '/6'))\n",
        "    n_7 = len(os.listdir(input_path + '/' + st + '/7'))\n",
        "    n_8 = len(os.listdir(input_path + '/' + st + '/8'))\n",
        "    n_9 = len(os.listdir(input_path + '/' + st + '/9'))\n",
        "    n_10 = len(os.listdir(input_path + '/' + st + '/10'))\n",
        "    n_11 = len(os.listdir(input_path + '/' + st + '/11'))\n",
        "    n_12 = len(os.listdir(input_path + '/' + st + '/12'))\n",
        "    n_13 = len(os.listdir(input_path + '/' + st + '/13'))\n",
        "    n_14 = len(os.listdir(input_path + '/' + st + '/14'))\n",
        "    n_15 = len(os.listdir(input_path + '/' + st + '/15'))\n",
        "    n_16 = len(os.listdir(input_path + '/' + st + '/16'))\n",
        "    n_17 = len(os.listdir(input_path + '/' + st + '/17'))\n",
        "    n_18 = len(os.listdir(input_path + '/' + st + '/18'))\n",
        "    print(st, n_0, n_1, n_2, n_3, n_4, n_5, n_6, n_7, n_8, n_9, n_10, n_11, n_12, n_13, n_14, n_15, n_16, n_17, n_18)"
      ]
    },
    {
      "cell_type": "code",
      "execution_count": null,
      "metadata": {
        "colab": {
          "base_uri": "https://localhost:8080/"
        },
        "id": "sIJ3xI23uyuh",
        "outputId": "bb5182b2-42d1-423e-f663-a82461674da8"
      },
      "outputs": [
        {
          "output_type": "stream",
          "name": "stdout",
          "text": [
            "Cloning into 'LRFinder'...\n",
            "remote: Enumerating objects: 71, done.\u001b[K\n",
            "remote: Total 71 (delta 0), reused 0 (delta 0), pack-reused 71\u001b[K\n",
            "Unpacking objects: 100% (71/71), done.\n"
          ]
        }
      ],
      "source": [
        "!git clone https://github.com/WittmannF/LRFinder.git\n",
        "from LRFinder.keras_callback import LRFinder"
      ]
    },
    {
      "cell_type": "code",
      "execution_count": null,
      "metadata": {
        "id": "4JEted6xu0fp"
      },
      "outputs": [],
      "source": [
        "lr_finder = LRFinder(min_lr=1e-5, max_lr=1)"
      ]
    },
    {
      "cell_type": "code",
      "execution_count": null,
      "metadata": {
        "id": "6VKaj5GKiONH"
      },
      "outputs": [],
      "source": [
        "def preprocess(image):\n",
        "  image = tf.image.adjust_contrast(image, contrast_factor = 0.3)\n",
        "  image = tf.keras.applications.inception_resnet_v2.preprocess_input(image)\n",
        "  return image"
      ]
    },
    {
      "cell_type": "code",
      "execution_count": null,
      "metadata": {
        "id": "iaz7zW0h0Z6H"
      },
      "outputs": [],
      "source": [
        "def process_data(img_dims, batch_size):\n",
        "    train_datagen = ImageDataGenerator(rotation_range=20, \n",
        "                                       rescale=1./255.0, \n",
        "                                       zoom_range=0.1, \n",
        "                                       vertical_flip=True, \n",
        "                                       width_shift_range=0.1,\n",
        "                                       height_shift_range=0.1,\n",
        "                                       shear_range=0.1)\n",
        "                                       #preprocessing_function=tf.keras.applications.inception_resnet_v2.preprocess_input)\n",
        "                                       #preprocessing_function=tf.keras.applications.densenet.preprocess_input)\n",
        "    \n",
        "    #test_val_datagen = ImageDataGenerator(rescale=1./255)\n",
        "                                          #preprocessing_function=change_contrast)\n",
        "    \n",
        "    train_gen = train_datagen.flow_from_directory(directory=input_path+ '/' + 'train', \n",
        "                                                  target_size=(img_dims, img_dims), \n",
        "                                                  batch_size=batch_size, \n",
        "                                                  class_mode='categorical', \n",
        "                                                  shuffle=True)\n",
        "\n",
        "    #test_gen = test_val_datagen.flow_from_directory(directory=input_path+ '/' + 'val', \n",
        "     #                                               target_size=(img_dims, img_dims), \n",
        "      #                                              batch_size=batch_size, \n",
        "       #                                             class_mode='categorical', \n",
        "        #                                            shuffle=True)\n",
        "    \n",
        "    test_data = []\n",
        "    test_labels = []\n",
        "\n",
        "    for cond in ['/0/', '/1/', '/2/', '/3/', '/4/', '/5/', '/6/', '/7/', '/8/', '/9/', '/10/', '/11/', '/12/', '/13/', '/14/', '/15/', '/16/', '/17/', '/18/']:\n",
        "        for img in (os.listdir(input_path + '/' + 'test' + cond)):\n",
        "            img = cv2.imread(input_path+ '/' + 'test'+cond+img)\n",
        "            img = cv2.resize(img, (img_dims, img_dims))\n",
        "            #img = preprocess(img)\n",
        "            #img = change_contrast(img)\n",
        "            if cond=='/0/':\n",
        "              label = 0\n",
        "            elif cond=='/1/':\n",
        "              label = 1\n",
        "            elif cond=='/2/':\n",
        "              label = 2\n",
        "            elif cond=='/3/':\n",
        "              label = 3\n",
        "            elif cond=='/4/':\n",
        "              label = 4\n",
        "            elif cond=='/5/':\n",
        "              label = 5\n",
        "            elif cond=='/6/':\n",
        "              label = 6\n",
        "            elif cond=='/7/':\n",
        "              label = 7\n",
        "            elif cond=='/8/':\n",
        "              label = 8\n",
        "            elif cond=='/9/':\n",
        "              label = 9\n",
        "            elif cond=='/10/':\n",
        "              label = 10\n",
        "            elif cond=='/11/':\n",
        "              label = 11\n",
        "            elif cond=='/12/':\n",
        "              label = 12\n",
        "            elif cond=='/13/':\n",
        "              label = 13\n",
        "            elif cond=='/14/':\n",
        "              label = 14\n",
        "            elif cond=='/15/':\n",
        "              label = 15\n",
        "            elif cond=='/16/':\n",
        "              label = 16\n",
        "            elif cond=='/17/':\n",
        "              label = 17\n",
        "            elif cond=='/18/':\n",
        "              label = 18\n",
        "            test_data.append(img)\n",
        "            test_labels.append(label)\n",
        "    test_data = np.array(test_data)/255.0\n",
        "    #test_data = tf.keras.applications.inception_resnet_v2.preprocess_input(test_data)\n",
        "    #test_data = tf.keras.applications.densenet.preprocess_input(test_data)\n",
        "    test_labels = np.array(test_labels)\n",
        "    \n",
        "    return train_gen, test_data, test_labels"
      ]
    },
    {
      "cell_type": "code",
      "execution_count": null,
      "metadata": {
        "colab": {
          "base_uri": "https://localhost:8080/"
        },
        "id": "_rJhtsfcl7_X",
        "outputId": "084a7eb4-44c7-495c-be0b-0fe88487ee29"
      },
      "outputs": [
        {
          "output_type": "stream",
          "name": "stdout",
          "text": [
            "Found 3740 images belonging to 19 classes.\n"
          ]
        }
      ],
      "source": [
        "img_dims = 300\n",
        "batch_size = 32\n",
        "train_gen, test_data, test_labels = process_data(img_dims, batch_size)"
      ]
    },
    {
      "cell_type": "code",
      "source": [
        "test_data.shape"
      ],
      "metadata": {
        "id": "7p2GNVhQGY5B"
      },
      "execution_count": null,
      "outputs": []
    },
    {
      "cell_type": "code",
      "source": [
        "import tensorflow_hub as hub"
      ],
      "metadata": {
        "id": "cYyflEfRMeFq"
      },
      "execution_count": null,
      "outputs": []
    },
    {
      "cell_type": "code",
      "source": [
        "model_url = \"https://tfhub.dev/google/bit/m-r152x4/imagenet21k_classification/1\"\n",
        "module = hub.KerasLayer(model_url)"
      ],
      "metadata": {
        "id": "18iXTIUmMW_p"
      },
      "execution_count": null,
      "outputs": []
    },
    {
      "cell_type": "code",
      "source": [
        "class MyBiTModel(tf.keras.Model):\n",
        "  \"\"\"BiT with a new head.\"\"\"\n",
        "\n",
        "  def __init__(self, num_classes, module):\n",
        "    super().__init__()\n",
        "\n",
        "    self.num_classes = num_classes\n",
        "    self.head = tf.keras.layers.Dense(num_classes, kernel_initializer='zeros')\n",
        "    self.bit_model = module\n",
        "  \n",
        "  def call(self, images):\n",
        "    # No need to cut head off since we are using feature extractor model\n",
        "    bit_embedding = self.bit_model(images)\n",
        "    return self.head(bit_embedding)\n",
        "\n",
        "model = MyBiTModel(num_classes=19, module=module)"
      ],
      "metadata": {
        "id": "f9V7OTSkMRRW"
      },
      "execution_count": null,
      "outputs": []
    },
    {
      "cell_type": "code",
      "source": [
        "lr = 0.003 * batch_size / 512\n",
        "SCHEDULE_LENGTH = 500 * 512 / batch_size\n",
        "SCHEDULE_BOUNDARIES = [200, 300, 400]\n",
        "STEPS_PER_EPOCH = 10\n",
        "# Decay learning rate by a factor of 10 at SCHEDULE_BOUNDARIES.\n",
        "lr_schedule = tf.keras.optimizers.schedules.PiecewiseConstantDecay(boundaries=SCHEDULE_BOUNDARIES, \n",
        "                                                                   values=[lr, lr*0.1, lr*0.001, lr*0.0001])\n",
        "optimizer = tf.keras.optimizers.SGD(learning_rate=lr_schedule, momentum=0.9)"
      ],
      "metadata": {
        "id": "cT9hvZG0OTv0"
      },
      "execution_count": null,
      "outputs": []
    },
    {
      "cell_type": "code",
      "source": [
        "model.compile(optimizer=optimizer, loss='categorical_crossentropy', metrics=['accuracy'])"
      ],
      "metadata": {
        "id": "yutHVMX0Ol5D"
      },
      "execution_count": null,
      "outputs": []
    },
    {
      "cell_type": "code",
      "source": [
        "history = model.fit(\n",
        "    train_gen,\n",
        "    steps_per_epoch=train_gen.samples // batch_size,\n",
        "    epochs=50)"
      ],
      "metadata": {
        "id": "miJGLSpURIX9"
      },
      "execution_count": null,
      "outputs": []
    },
    {
      "cell_type": "code",
      "execution_count": null,
      "metadata": {
        "colab": {
          "base_uri": "https://localhost:8080/"
        },
        "id": "Rv6smuHLKpO-",
        "outputId": "548c7aa9-9a12-4030-a922-07d1e597c90e"
      },
      "outputs": [
        {
          "output_type": "execute_result",
          "data": {
            "text/plain": [
              "(769, 300, 300, 3)"
            ]
          },
          "metadata": {},
          "execution_count": 6
        }
      ],
      "source": [
        "test_data.shape"
      ]
    },
    {
      "cell_type": "code",
      "source": [
        "test_data[0]"
      ],
      "metadata": {
        "id": "6KM_IgCe3x4b"
      },
      "execution_count": null,
      "outputs": []
    },
    {
      "cell_type": "code",
      "execution_count": null,
      "metadata": {
        "id": "VPWIeVkMzGai"
      },
      "outputs": [],
      "source": [
        "from sklearn.utils import compute_class_weight\n",
        "class_weights = compute_class_weight(\n",
        "                                        class_weight = \"balanced\",\n",
        "                                        classes = np.unique(test_labels),\n",
        "                                        y = test_labels                                                    \n",
        "                                    )\n",
        "class_weights = dict(zip(np.unique(test_labels), class_weights)),\n",
        "class_weights"
      ]
    },
    {
      "cell_type": "code",
      "execution_count": null,
      "metadata": {
        "id": "ZXAOA83ZTJVh"
      },
      "outputs": [],
      "source": [
        "pip install -U keras-efficientnet-v2"
      ]
    },
    {
      "cell_type": "code",
      "execution_count": null,
      "metadata": {
        "id": "Xd5LfxY20cR3"
      },
      "outputs": [],
      "source": [
        "pip install keras-efficientnet-v2"
      ]
    },
    {
      "cell_type": "code",
      "execution_count": null,
      "metadata": {
        "id": "cC06JbbhTM9R"
      },
      "outputs": [],
      "source": [
        "import keras_efficientnet_v2\n",
        "model = keras_efficientnet_v2.EfficientNetV2B3(pretrained=\"imagenet\", num_classes=19, include_preprocessing=True)"
      ]
    },
    {
      "cell_type": "code",
      "execution_count": null,
      "metadata": {
        "id": "WAiTqRIgvlTd"
      },
      "outputs": [],
      "source": [
        "!pip install git+https://github.com/sebastian-sz/efficientnet-v2-keras@main"
      ]
    },
    {
      "cell_type": "code",
      "execution_count": null,
      "metadata": {
        "id": "IGax9C6pvusu"
      },
      "outputs": [],
      "source": [
        "from efficientnet_v2 import EfficientNetV2B3"
      ]
    },
    {
      "cell_type": "code",
      "execution_count": null,
      "metadata": {
        "id": "qhFyxy4iQlhf"
      },
      "outputs": [],
      "source": [
        "i = tf.keras.layers.Input([img_dims, img_dims, 3])\n",
        "i = tf.keras.applications.densenet.preprocess_input(i)\n",
        "base_model = tf.keras.applications.DenseNet121(include_top=False, weights='imagenet', input_tensor=None, pooling=None)\n",
        "base_model.trainable = True\n",
        "head_model = base_model(i)\n",
        "head_model = Flatten()(head_model)\n",
        "head_model = Dense(1024, activation='relu')(head_model)\n",
        "head_model = Dropout(0.2)(head_model)\n",
        "head_model = BatchNormalization()(head_model)\n",
        "head_model = Dense(256, activation='relu')(head_model)\n",
        "head_model = Dropout(0.2)(head_model)\n",
        "head_model = BatchNormalization()(head_model)\n",
        "predictions = Dense(19, activation='softmax')(head_model)\n",
        "model = tf.keras.Model(inputs=i, outputs=predictions)"
      ]
    },
    {
      "cell_type": "code",
      "execution_count": null,
      "metadata": {
        "id": "GpVlqQzxJCQA"
      },
      "outputs": [],
      "source": [
        "input_shape = (img_dims, img_dims, 3)\n",
        "model = tf.keras.Sequential([\n",
        "    tf.keras.layers.InputLayer(input_shape=input_shape),\n",
        "    #tf.keras.applications.densenet.preprocess_input,\n",
        "    tf.keras.layers.RandomContrast(0.3, seed=69),\n",
        "    tf.keras.applications.DenseNet201(include_top=False, weights='imagenet', input_tensor=None, input_shape=(img_dims, img_dims, 3)),\n",
        "    Flatten(),\n",
        "    Dense(1024, activation='relu'),\n",
        "    Dropout(0.2),\n",
        "    BatchNormalization(),\n",
        "    Dense(256, activation='relu'),\n",
        "    Dropout(0.2),\n",
        "    BatchNormalization(),\n",
        "    Dense(19, activation='softmax')\n",
        "])"
      ]
    },
    {
      "cell_type": "code",
      "source": [
        "inputs = tf.keras.layers.InputLayer(input_shape=input_shape)\n",
        "x = tf.keras.applications.densenet.preprocess_input(inputs)\n",
        "outputs = rest_of_the_model(x)\n",
        "model = keras.Model(inputs, outputs)"
      ],
      "metadata": {
        "id": "aJfvRfDOrqPJ"
      },
      "execution_count": null,
      "outputs": []
    },
    {
      "cell_type": "code",
      "execution_count": null,
      "metadata": {
        "id": "fHTo34UTJJnR"
      },
      "outputs": [],
      "source": [
        "opt = Adam(learning_rate=1e-2)\n",
        "#es = tf.keras.callbacks.EarlyStopping(monitor=\"loss\", min_delta=0.05, patience=6)\n",
        "lr_reduce = ReduceLROnPlateau(monitor='loss', factor=0.7, patience=5, mode='auto')\n",
        "model.compile(optimizer=opt, loss='categorical_crossentropy', metrics=['accuracy'])"
      ]
    },
    {
      "cell_type": "code",
      "execution_count": null,
      "metadata": {
        "id": "HSvXrxYMqkzo"
      },
      "outputs": [],
      "source": [
        "model.summary()"
      ]
    },
    {
      "cell_type": "code",
      "execution_count": null,
      "metadata": {
        "id": "CoPPPPhNu2ZB"
      },
      "outputs": [],
      "source": [
        "for layer in model.layers:\n",
        "  print(layer.name, layer.trainable)"
      ]
    },
    {
      "cell_type": "code",
      "execution_count": null,
      "metadata": {
        "id": "iMEhc9Oew8hC"
      },
      "outputs": [],
      "source": [
        "lr_reduce = ReduceLROnPlateau(monitor='loss', factor=0.6, patience=5, mode='auto')"
      ]
    },
    {
      "cell_type": "code",
      "source": [
        "history = model.fit(\n",
        "            train_gen, steps_per_epoch=train_gen.samples // batch_size,\n",
        "            epochs=80, callbacks=[lr_reduce])"
      ],
      "metadata": {
        "id": "H6-5rgdqoE3h"
      },
      "execution_count": null,
      "outputs": []
    },
    {
      "cell_type": "code",
      "execution_count": null,
      "metadata": {
        "colab": {
          "base_uri": "https://localhost:8080/"
        },
        "id": "T9WKjXK_dOv7",
        "outputId": "4252b916-b814-41fd-d9ef-535467ae3110"
      },
      "outputs": [
        {
          "output_type": "stream",
          "name": "stdout",
          "text": [
            "INFO:tensorflow:Assets written to: /content/drive/My Drive/dpsg/assets\n"
          ]
        }
      ],
      "source": [
        "tf.keras.models.save_model(model, filepath = '/content/drive/My Drive/dpsg')"
      ]
    },
    {
      "cell_type": "code",
      "execution_count": null,
      "metadata": {
        "id": "HrdJ4SxbjTGt"
      },
      "outputs": [],
      "source": [
        "for layer in model.layers:\n",
        "  layer.trainable = True"
      ]
    },
    {
      "cell_type": "code",
      "execution_count": null,
      "metadata": {
        "id": "hD6vmLVfjZxt"
      },
      "outputs": [],
      "source": [
        "for layer in model.layers:\n",
        "  print(layer.name, layer.trainable)"
      ]
    },
    {
      "cell_type": "code",
      "execution_count": null,
      "metadata": {
        "id": "iRWY9lInhD8-"
      },
      "outputs": [],
      "source": [
        "history = model.fit(\n",
        "            train_gen, steps_per_epoch=train_gen.samples // batch_size,\n",
        "            epochs=80, callbacks=[lr_reduce])"
      ]
    },
    {
      "cell_type": "code",
      "execution_count": null,
      "metadata": {
        "colab": {
          "base_uri": "https://localhost:8080/"
        },
        "id": "U9jXzxgejrc0",
        "outputId": "0315b866-29cb-472b-a55f-eba437036fa1"
      },
      "outputs": [
        {
          "name": "stdout",
          "output_type": "stream",
          "text": [
            "INFO:tensorflow:Assets written to: /content/drive/My Drive/dpdpdp/assets\n"
          ]
        }
      ],
      "source": [
        "#tf.keras.models.save_model(model, filepath = '/content/drive/My Drive/dpdpdp')"
      ]
    },
    {
      "cell_type": "code",
      "execution_count": null,
      "metadata": {
        "id": "edNI7KIr0S9n"
      },
      "outputs": [],
      "source": [
        "opt = Adam(learning_rate=1.5e-4)\n",
        "#es = tf.keras.callbacks.EarlyStopping(monitor=\"loss\", min_delta=0.05, patience=6)\n",
        "lr_reduce = ReduceLROnPlateau(monitor='loss', factor=0.5, patience=6, mode='auto')\n",
        "model.compile(optimizer=opt, loss='categorical_crossentropy', metrics=['accuracy'])"
      ]
    },
    {
      "cell_type": "code",
      "execution_count": null,
      "metadata": {
        "id": "gaG5-DKlDS9p"
      },
      "outputs": [],
      "source": [
        "model = tf.keras.models.load_model('/content/drive/My Drive/dpsg')"
      ]
    },
    {
      "cell_type": "code",
      "source": [
        "history = model.fit(\n",
        "            train_gen, steps_per_epoch=train_gen.samples // batch_size,\n",
        "            epochs=20, callbacks=[lr_reduce])"
      ],
      "metadata": {
        "id": "FMcrmE_Kfmyh",
        "colab": {
          "base_uri": "https://localhost:8080/"
        },
        "outputId": "dbb3803f-8e37-4277-892a-988b85753dfd"
      },
      "execution_count": null,
      "outputs": [
        {
          "output_type": "stream",
          "name": "stdout",
          "text": [
            "Epoch 1/20\n",
            "116/116 [==============================] - 417s 4s/step - loss: 0.5141 - accuracy: 0.8077 - lr: 1.8750e-05\n",
            "Epoch 2/20\n",
            "116/116 [==============================] - 418s 4s/step - loss: 0.5520 - accuracy: 0.7975 - lr: 1.8750e-05\n",
            "Epoch 3/20\n",
            "116/116 [==============================] - 417s 4s/step - loss: 0.4992 - accuracy: 0.8163 - lr: 1.8750e-05\n",
            "Epoch 4/20\n",
            "116/116 [==============================] - 414s 4s/step - loss: 0.5349 - accuracy: 0.8012 - lr: 1.8750e-05\n",
            "Epoch 5/20\n",
            "116/116 [==============================] - 415s 4s/step - loss: 0.5030 - accuracy: 0.8142 - lr: 1.8750e-05\n",
            "Epoch 6/20\n",
            "116/116 [==============================] - 415s 4s/step - loss: 0.4948 - accuracy: 0.8255 - lr: 1.8750e-05\n",
            "Epoch 7/20\n",
            "116/116 [==============================] - 415s 4s/step - loss: 0.5066 - accuracy: 0.8193 - lr: 1.8750e-05\n",
            "Epoch 8/20\n",
            "116/116 [==============================] - 415s 4s/step - loss: 0.5130 - accuracy: 0.8131 - lr: 1.8750e-05\n",
            "Epoch 9/20\n",
            "116/116 [==============================] - 416s 4s/step - loss: 0.5139 - accuracy: 0.8150 - lr: 1.8750e-05\n",
            "Epoch 10/20\n",
            "116/116 [==============================] - 416s 4s/step - loss: 0.5126 - accuracy: 0.8193 - lr: 1.8750e-05\n",
            "Epoch 11/20\n",
            "116/116 [==============================] - 416s 4s/step - loss: 0.4895 - accuracy: 0.8242 - lr: 1.8750e-05\n",
            "Epoch 12/20\n",
            "116/116 [==============================] - 418s 4s/step - loss: 0.5204 - accuracy: 0.8080 - lr: 1.8750e-05\n",
            "Epoch 13/20\n",
            "116/116 [==============================] - 416s 4s/step - loss: 0.5048 - accuracy: 0.8182 - lr: 1.8750e-05\n",
            "Epoch 14/20\n",
            "116/116 [==============================] - 414s 4s/step - loss: 0.4962 - accuracy: 0.8180 - lr: 1.8750e-05\n",
            "Epoch 15/20\n",
            "116/116 [==============================] - 414s 4s/step - loss: 0.5241 - accuracy: 0.8101 - lr: 1.8750e-05\n",
            "Epoch 16/20\n",
            "116/116 [==============================] - 417s 4s/step - loss: 0.5159 - accuracy: 0.8153 - lr: 1.8750e-05\n",
            "Epoch 17/20\n",
            "116/116 [==============================] - 417s 4s/step - loss: 0.4984 - accuracy: 0.8139 - lr: 1.8750e-05\n",
            "Epoch 18/20\n",
            "116/116 [==============================] - 417s 4s/step - loss: 0.4852 - accuracy: 0.8247 - lr: 9.3750e-06\n",
            "Epoch 19/20\n",
            "116/116 [==============================] - 414s 4s/step - loss: 0.4872 - accuracy: 0.8225 - lr: 9.3750e-06\n",
            "Epoch 20/20\n",
            "116/116 [==============================] - 417s 4s/step - loss: 0.4896 - accuracy: 0.8279 - lr: 9.3750e-06\n"
          ]
        }
      ]
    },
    {
      "cell_type": "code",
      "source": [
        "#tf.keras.models.save_model(model, filepath = '/content/drive/My Drive/dpdpdp')"
      ],
      "metadata": {
        "colab": {
          "base_uri": "https://localhost:8080/"
        },
        "id": "BVxZRxfcgmjq",
        "outputId": "6631e88c-d69d-47f3-9f92-7f69fd80a21f"
      },
      "execution_count": null,
      "outputs": [
        {
          "output_type": "stream",
          "name": "stdout",
          "text": [
            "INFO:tensorflow:Assets written to: /content/drive/My Drive/dpdpdp/assets\n"
          ]
        }
      ]
    },
    {
      "cell_type": "code",
      "source": [
        "model = tf.keras.models.load_model('/content/drive/My Drive/dpdpdp')"
      ],
      "metadata": {
        "id": "Qyfz-sEzzVWj"
      },
      "execution_count": null,
      "outputs": []
    },
    {
      "cell_type": "code",
      "source": [
        "model.summary()"
      ],
      "metadata": {
        "id": "JSnVJMcdATG-"
      },
      "execution_count": null,
      "outputs": []
    },
    {
      "cell_type": "code",
      "source": [
        "predIdxs = model.predict(test_data)\n",
        "predIdxs = np.argmax(predIdxs,axis=1)"
      ],
      "metadata": {
        "id": "HMvdV-MpG23j",
        "colab": {
          "base_uri": "https://localhost:8080/",
          "height": 183
        },
        "outputId": "eebf0271-62a5-4111-8c76-fd263c606d48"
      },
      "execution_count": null,
      "outputs": [
        {
          "output_type": "error",
          "ename": "NameError",
          "evalue": "ignored",
          "traceback": [
            "\u001b[0;31m---------------------------------------------------------------------------\u001b[0m",
            "\u001b[0;31mNameError\u001b[0m                                 Traceback (most recent call last)",
            "\u001b[0;32m<ipython-input-1-d97a9dcd8b70>\u001b[0m in \u001b[0;36m<module>\u001b[0;34m()\u001b[0m\n\u001b[0;32m----> 1\u001b[0;31m \u001b[0mpredIdxs\u001b[0m \u001b[0;34m=\u001b[0m \u001b[0mmodel\u001b[0m\u001b[0;34m.\u001b[0m\u001b[0mpredict\u001b[0m\u001b[0;34m(\u001b[0m\u001b[0mtest_data\u001b[0m\u001b[0;34m)\u001b[0m\u001b[0;34m\u001b[0m\u001b[0;34m\u001b[0m\u001b[0m\n\u001b[0m\u001b[1;32m      2\u001b[0m \u001b[0mpredIdxs\u001b[0m \u001b[0;34m=\u001b[0m \u001b[0mnp\u001b[0m\u001b[0;34m.\u001b[0m\u001b[0margmax\u001b[0m\u001b[0;34m(\u001b[0m\u001b[0mpredIdxs\u001b[0m\u001b[0;34m,\u001b[0m\u001b[0maxis\u001b[0m\u001b[0;34m=\u001b[0m\u001b[0;36m1\u001b[0m\u001b[0;34m)\u001b[0m\u001b[0;34m\u001b[0m\u001b[0;34m\u001b[0m\u001b[0m\n",
            "\u001b[0;31mNameError\u001b[0m: name 'model' is not defined"
          ]
        }
      ]
    },
    {
      "cell_type": "code",
      "source": [
        "cm=confusion_matrix(test_labels, predIdxs, labels =[0, 1, 2, 3, 4, 5, 6, 7, 8, 9, 10, 11, 12, 13, 14, 15, 16, 17, 18])\n",
        "print(cm.shape)\n",
        "print(cm)"
      ],
      "metadata": {
        "id": "dvj5DD_FuGzn"
      },
      "execution_count": null,
      "outputs": []
    },
    {
      "cell_type": "code",
      "source": [
        "import seaborn as sns\n",
        "ax = sns.heatmap(cm, annot=True, fmt=\".0f\", cmap=\"Blues\", xticklabels=['/0/', '/1/', '/2/', '/3/', '/4/', '/5/', '/6/', '/7/', '/8/', '/9/', '/10/', '/11/', '/12/', '/13/', '/14/', '/15/', '/16/', '/17/', '/18/'], yticklabels=['/0/', '/1/', '/2/', '/3/', '/4/', '/5/', '/6/', '/7/', '/8/', '/9/', '/10/', '/11/', '/12/', '/13/', '/14/', '/15/', '/16/', '/17/', '/18/'])\n",
        "ax.set_xlabel('Predicted')\n",
        "ax.set_ylabel('Actual');"
      ],
      "metadata": {
        "id": "bgxdJpHprX8Q",
        "colab": {
          "base_uri": "https://localhost:8080/",
          "height": 289
        },
        "outputId": "7349b87c-e0c6-4422-9c1a-280abe47ed6a"
      },
      "execution_count": null,
      "outputs": [
        {
          "output_type": "display_data",
          "data": {
            "image/png": "[encoded data removed]",
            "text/plain": [
              "<Figure size 432x288 with 2 Axes>"
            ]
          },
          "metadata": {
            "needs_background": "light"
          }
        }
      ]
    },
    {
      "cell_type": "code",
      "source": [
        "import seaborn as sns\n",
        "ax = sns.heatmap(cm, annot=True, fmt=\".0f\", cmap=\"Blues\", xticklabels=['/0/', '/1/', '/2/', '/3/', '/4/', '/5/', '/6/', '/7/', '/8/', '/9/', '/10/', '/11/', '/12/', '/13/', '/14/', '/15/', '/16/', '/17/', '/18/'], yticklabels=['/0/', '/1/', '/2/', '/3/', '/4/', '/5/', '/6/', '/7/', '/8/', '/9/', '/10/', '/11/', '/12/', '/13/', '/14/', '/15/', '/16/', '/17/', '/18/'])\n",
        "ax.set_xlabel('Predicted')\n",
        "ax.set_ylabel('Actual');"
      ],
      "metadata": {
        "colab": {
          "base_uri": "https://localhost:8080/",
          "height": 289
        },
        "id": "Te9VymkuRuyX",
        "outputId": "40e4c203-406f-4673-b3e0-a9bc45812a0f"
      },
      "execution_count": null,
      "outputs": [
        {
          "output_type": "display_data",
          "data": {
            "image/png": "[encoded data removed]",
            "text/plain": [
              "<Figure size 432x288 with 2 Axes>"
            ]
          },
          "metadata": {
            "needs_background": "light"
          }
        }
      ]
    },
    {
      "cell_type": "code",
      "source": [
        "import os\n",
        "import cv2\n",
        "for cond in ['/0/']:\n",
        "        for img in (os.listdir(input_path + '/' + 'test' + cond)):\n",
        "            print(img)\n",
        "            img = cv2.imread(input_path+ '/' + 'test'+cond+img, 0)\n",
        "            img = np.expand_dims(img, axis=-1)\n",
        "            #img = cv2.resize(img, (img_dims, img_dims))\n",
        "            print(img.shape)"
      ],
      "metadata": {
        "id": "TmxOefIQ3rON"
      },
      "execution_count": null,
      "outputs": []
    },
    {
      "cell_type": "code",
      "source": [
        "img = cv2.imread(input_path+ '/' + 'test'+'/0/'+'12506197572541509887.jpg')\n",
        "print(img.shape)"
      ],
      "metadata": {
        "colab": {
          "base_uri": "https://localhost:8080/"
        },
        "id": "ETd0Oq3v7de7",
        "outputId": "e6c8aa4b-6a62-4f07-911c-3175530946f5"
      },
      "execution_count": null,
      "outputs": [
        {
          "output_type": "stream",
          "name": "stdout",
          "text": [
            "(2350, 2866, 3)\n"
          ]
        }
      ]
    }
  ],
  "metadata": {
    "accelerator": "GPU",
    "colab": {
      "collapsed_sections": [],
      "machine_shape": "hm",
      "name": "attempt.ipynb",
      "provenance": []
    },
    "kernelspec": {
      "display_name": "Python 3",
      "name": "python3"
    },
    "language_info": {
      "name": "python"
    }
  },
  "nbformat": 4,
  "nbformat_minor": 0
}