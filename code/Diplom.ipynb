{
  "nbformat": 4,
  "nbformat_minor": 0,
  "metadata": {
    "colab": {
      "name": "Diplom.ipynb",
      "provenance": [],
      "collapsed_sections": []
    },
    "kernelspec": {
      "display_name": "Python 3",
      "name": "python3"
    },
    "language_info": {
      "name": "python"
    },
    "accelerator": "TPU"
  },
  "cells": [
    {
      "cell_type": "code",
      "metadata": {
        "id": "tfwRL9K2XZ1v"
      },
      "source": [
        "import os\n",
        "import keras\n",
        "import IPython\n",
        "import numpy as np\n",
        "import pandas as pd \n",
        "import random\n",
        "import cv2\n",
        "import matplotlib.pyplot as plt\n",
        "%matplotlib inline\n",
        "from keras.preprocessing.image import ImageDataGenerator\n",
        "# Deep learning libraries\n",
        "import keras.backend as K\n",
        "from tensorflow.keras.models import Model, Sequential\n",
        "from tensorflow.keras.layers import Input, Dense, Flatten, Dropout, BatchNormalization\n",
        "from tensorflow.keras.layers import Conv2D, SeparableConv2D, MaxPool2D, LeakyReLU, Activation\n",
        "from tensorflow.keras.optimizers import Adam\n",
        "from tensorflow.keras.preprocessing.image import ImageDataGenerator\n",
        "from tensorflow.keras.callbacks import ModelCheckpoint, ReduceLROnPlateau, EarlyStopping\n",
        "import tensorflow as tf\n",
        "from sklearn.metrics import confusion_matrix, ConfusionMatrixDisplay\n",
        "# Setting seeds for reproducibility\n",
        "seed = 69\n",
        "np.random.seed(seed)\n",
        "tf.random.set_seed(seed)\n"
      ],
      "execution_count": null,
      "outputs": []
    },
    {
      "cell_type": "code",
      "metadata": {
        "id": "Eu-uRYAehLbs"
      },
      "source": [
        "input_path = '/content/drive/My Drive/DataDiplom'"
      ],
      "execution_count": null,
      "outputs": []
    },
    {
      "cell_type": "code",
      "metadata": {
        "colab": {
          "base_uri": "https://localhost:8080/"
        },
        "id": "01CxtABLcAfj",
        "outputId": "9b39a51c-0c6a-4db5-c5a6-f9edd24df674"
      },
      "source": [
        " from google.colab import drive\n",
        "drive.mount('/content/drive')"
      ],
      "execution_count": null,
      "outputs": [
        {
          "output_type": "stream",
          "name": "stdout",
          "text": [
            "Drive already mounted at /content/drive; to attempt to forcibly remount, call drive.mount(\"/content/drive\", force_remount=True).\n"
          ]
        }
      ]
    },
    {
      "cell_type": "code",
      "metadata": {
        "id": "pFHK9zDAl68c",
        "colab": {
          "base_uri": "https://localhost:8080/"
        },
        "outputId": "8ed47c23-1bc6-48fa-884c-6762f70db9db"
      },
      "source": [
        "for st in ['train', 'val', 'test']:\n",
        "    n_normal = len(os.listdir(input_path + '/' + st + '/NORMAL'))\n",
        "    n_infect = len(os.listdir(input_path + '/' + st + '/PNEUMONIA'))\n",
        "    n_covid = len(os.listdir(input_path + '/' + st + '/COVID'))\n",
        "    print('Set: {}, normal images: {}, pneumonia images: {}, covid images: {}'.format(st, n_normal, n_infect, n_covid))"
      ],
      "execution_count": null,
      "outputs": [
        {
          "output_type": "stream",
          "name": "stdout",
          "text": [
            "Set: train, normal images: 8153, pneumonia images: 3418, covid images: 4729\n",
            "Set: val, normal images: 511, pneumonia images: 212, covid images: 183\n",
            "Set: test, normal images: 1428, pneumonia images: 640, covid images: 743\n"
          ]
        }
      ]
    },
    {
      "cell_type": "code",
      "metadata": {
        "id": "BWFG1DiK5gVp"
      },
      "source": [
        "def change_contrast(img):\n",
        "    return tf.image.adjust_contrast(img, 1.5)"
      ],
      "execution_count": null,
      "outputs": []
    },
    {
      "cell_type": "code",
      "metadata": {
        "id": "IlYtxkZsclLG"
      },
      "source": [
        "def process_data(img_dims, batch_size):\n",
        "    train_datagen = ImageDataGenerator(rotation_range=20, \n",
        "                                       rescale=1./255, \n",
        "                                       zoom_range=0.15, \n",
        "                                       #vertical_flip=True, \n",
        "                                       width_shift_range=0.2,\n",
        "                                       height_shift_range=0.2,\n",
        "                                       shear_range=0.15)\n",
        "                                       #preprocessing_function=change_contrast)\n",
        "    \n",
        "    test_val_datagen = ImageDataGenerator(rescale=1./255)\n",
        "                                          #preprocessing_function=change_contrast)\n",
        "    \n",
        "    train_gen = train_datagen.flow_from_directory(directory=input_path+ '/' + 'train', \n",
        "                                                  target_size=(img_dims, img_dims), \n",
        "                                                  batch_size=batch_size, \n",
        "                                                  class_mode='categorical', \n",
        "                                                  shuffle=True)\n",
        "\n",
        "    test_gen = test_val_datagen.flow_from_directory(directory=input_path+ '/' + 'val', \n",
        "                                                    target_size=(img_dims, img_dims), \n",
        "                                                    batch_size=batch_size, \n",
        "                                                    class_mode='categorical', \n",
        "                                                    shuffle=True)\n",
        "    \n",
        "    test_data = []\n",
        "    test_labels = []\n",
        "\n",
        "    for cond in ['/COVID/', '/NORMAL/', '/PNEUMONIA/']:\n",
        "        for img in (os.listdir(input_path + '/' + 'test' + cond)):\n",
        "            img = cv2.imread(input_path+ '/' + 'test'+cond+img)\n",
        "            img = cv2.resize(img, (img_dims, img_dims))\n",
        "            #img = change_contrast(img)\n",
        "            if cond=='/NORMAL/':\n",
        "                label = 1\n",
        "            elif cond=='/PNEUMONIA/':\n",
        "                label = 2\n",
        "            elif cond=='/COVID/':\n",
        "                label = 0\n",
        "            test_data.append(img)\n",
        "            test_labels.append(label)\n",
        "    test_data = np.array(test_data) / 255.0\n",
        "    test_labels = np.array(test_labels)\n",
        "    \n",
        "    return train_gen, test_gen, test_data, test_labels"
      ],
      "execution_count": null,
      "outputs": []
    },
    {
      "cell_type": "code",
      "metadata": {
        "colab": {
          "base_uri": "https://localhost:8080/"
        },
        "id": "2hZKR4i7dwOV",
        "outputId": "aede065b-c639-4704-c4b2-18b4b606c2c8"
      },
      "source": [
        "img_dims = 224\n",
        "epochs = 20\n",
        "batch_size = 64\n",
        "\n",
        "# Getting the data\n",
        "train_gen, test_gen, test_data, test_labels = process_data(img_dims, batch_size)"
      ],
      "execution_count": null,
      "outputs": [
        {
          "output_type": "stream",
          "name": "stdout",
          "text": [
            "Found 16300 images belonging to 3 classes.\n",
            "Found 906 images belonging to 3 classes.\n"
          ]
        }
      ]
    },
    {
      "cell_type": "code",
      "metadata": {
        "id": "RRd7Q-uBulSb",
        "colab": {
          "base_uri": "https://localhost:8080/"
        },
        "outputId": "74862b06-dac2-4209-8737-1c04ee58a083"
      },
      "source": [
        "base_model = tf.keras.applications.DenseNet201(include_top=False, weights='imagenet', input_tensor=None, input_shape=(img_dims, img_dims, 3), pooling=None)\n",
        "base_model.trainable = False\n",
        "initializer = tf.keras.initializers.he_normal(seed=32)\n",
        "head_model = base_model.output\n",
        "head_model = Flatten()(head_model)\n",
        "head_model = Dense(512, activation='relu', kernel_initializer=initializer)(head_model)\n",
        "head_model = Dropout(0.3)(head_model)\n",
        "head_model = BatchNormalization()(head_model)\n",
        "head_model = Dense(256, activation='relu', kernel_initializer=initializer)(head_model)\n",
        "head_model = Dropout(0.2)(head_model)\n",
        "head_model = BatchNormalization()(head_model)\n",
        "predictions = Dense(3, activation='softmax', kernel_initializer=initializer)(head_model)\n",
        "model = tf.keras.Model(base_model.input, outputs=predictions)\n",
        "opt = Adam(learning_rate=1e-2)\n",
        "class_weight = {1: 1.0,\n",
        "               2: 2.4,\n",
        "                0: 1.8}\n",
        "es = tf.keras.callbacks.EarlyStopping(monitor=\"loss\", min_delta=0.05, patience=2)\n",
        "lr_reduce = ReduceLROnPlateau(monitor='loss', factor=0.3, patience=2)\n",
        "model.compile(optimizer=opt, loss='categorical_crossentropy', metrics=['accuracy'])\n"
      ],
      "execution_count": null,
      "outputs": [
        {
          "output_type": "stream",
          "name": "stdout",
          "text": [
            "Downloading data from https://storage.googleapis.com/tensorflow/keras-applications/densenet/densenet201_weights_tf_dim_ordering_tf_kernels_notop.h5\n",
            "74842112/74836368 [==============================] - 1s 0us/step\n",
            "74850304/74836368 [==============================] - 1s 0us/step\n"
          ]
        }
      ]
    },
    {
      "cell_type": "code",
      "source": [
        "model.summary()"
      ],
      "metadata": {
        "id": "m1qWeKrLxEus"
      },
      "execution_count": null,
      "outputs": []
    },
    {
      "cell_type": "code",
      "source": [
        "for layer in model.layers:\n",
        "  print(layer.name, layer.trainable)"
      ],
      "metadata": {
        "id": "7JTLGV_SCxUS"
      },
      "execution_count": null,
      "outputs": []
    },
    {
      "cell_type": "code",
      "metadata": {
        "colab": {
          "base_uri": "https://localhost:8080/"
        },
        "id": "8U6JiM_S685O",
        "outputId": "278676c6-7ae5-41f4-92ed-eef00b245bb0"
      },
      "source": [
        "!git clone https://github.com/WittmannF/LRFinder.git\n",
        "from LRFinder.keras_callback import LRFinder"
      ],
      "execution_count": null,
      "outputs": [
        {
          "name": "stdout",
          "output_type": "stream",
          "text": [
            "Cloning into 'LRFinder'...\n",
            "remote: Enumerating objects: 71, done.\u001b[K\n",
            "remote: Total 71 (delta 0), reused 0 (delta 0), pack-reused 71\u001b[K\n",
            "Unpacking objects: 100% (71/71), done.\n"
          ]
        }
      ]
    },
    {
      "cell_type": "code",
      "metadata": {
        "id": "6T0gViNW707w"
      },
      "source": [
        "lr_finder = LRFinder(min_lr=1e-4, max_lr=1)"
      ],
      "execution_count": null,
      "outputs": []
    },
    {
      "cell_type": "code",
      "metadata": {
        "id": "_KykwKhZp7c-"
      },
      "source": [
        "checkpoint = ModelCheckpoint(\"best1stage224contrast.hdf5\", monitor='loss', verbose=1,\n",
        "    save_best_only=True, mode='auto')"
      ],
      "execution_count": null,
      "outputs": []
    },
    {
      "cell_type": "code",
      "metadata": {
        "colab": {
          "base_uri": "https://localhost:8080/",
          "height": 494
        },
        "id": "88oenEaEvq8x",
        "outputId": "a0aa5d47-b32d-4ccf-da12-26faceb19077"
      },
      "source": [
        "history = model.fit(\n",
        "            train_gen, steps_per_epoch=train_gen.samples // batch_size, \n",
        "            epochs=3, callbacks=[lr_finder],\n",
        "            class_weight=class_weight)"
      ],
      "execution_count": null,
      "outputs": [
        {
          "name": "stdout",
          "output_type": "stream",
          "text": [
            "Epoch 1/3\n",
            "254/254 [==============================] - 412s 2s/step - loss: 1.1947 - accuracy: 0.6694\n",
            "Epoch 2/3\n",
            "254/254 [==============================] - 395s 2s/step - loss: 1.2055 - accuracy: 0.6820\n",
            "Epoch 3/3\n",
            "254/254 [==============================] - 396s 2s/step - loss: 4.7779 - accuracy: 0.6119\n"
          ]
        },
        {
          "data": {
            "image/png": "[encoded data removed]",
            "text/plain": [
              "<Figure size 864x432 with 1 Axes>"
            ]
          },
          "metadata": {},
          "output_type": "display_data"
        }
      ]
    },
    {
      "cell_type": "code",
      "metadata": {
        "id": "0F8RuE5C39WG"
      },
      "source": [
        "#model = keras.models.load_model('/content/drive/My Drive/Diplom96nevBN224contrast')"
      ],
      "execution_count": null,
      "outputs": []
    },
    {
      "cell_type": "code",
      "metadata": {
        "id": "ENSABP07w3NT",
        "colab": {
          "base_uri": "https://localhost:8080/"
        },
        "outputId": "1c32df78-1958-4d16-ba03-207a99b11b47"
      },
      "source": [
        "history = model.fit(\n",
        "            train_gen, steps_per_epoch=train_gen.samples // batch_size,\n",
        "            epochs=10,\n",
        "            class_weight=class_weight)"
      ],
      "execution_count": null,
      "outputs": [
        {
          "output_type": "stream",
          "name": "stdout",
          "text": [
            "Epoch 1/10\n",
            "254/254 [==============================] - 12451s 49s/step - loss: 0.4883 - accuracy: 0.8634\n",
            "Epoch 2/10\n",
            "254/254 [==============================] - 339s 1s/step - loss: 0.3272 - accuracy: 0.9077\n",
            "Epoch 3/10\n",
            "254/254 [==============================] - 339s 1s/step - loss: 0.2888 - accuracy: 0.9204\n",
            "Epoch 4/10\n",
            "254/254 [==============================] - 339s 1s/step - loss: 0.2736 - accuracy: 0.9230\n",
            "Epoch 5/10\n",
            "254/254 [==============================] - 338s 1s/step - loss: 0.2541 - accuracy: 0.9286\n",
            "Epoch 6/10\n",
            "254/254 [==============================] - 339s 1s/step - loss: 0.2475 - accuracy: 0.9314\n",
            "Epoch 7/10\n",
            "254/254 [==============================] - 338s 1s/step - loss: 0.2442 - accuracy: 0.9319\n",
            "Epoch 8/10\n",
            "254/254 [==============================] - 339s 1s/step - loss: 0.2346 - accuracy: 0.9346\n",
            "Epoch 9/10\n",
            "254/254 [==============================] - 338s 1s/step - loss: 0.2256 - accuracy: 0.9355\n",
            "Epoch 10/10\n",
            "254/254 [==============================] - 340s 1s/step - loss: 0.2293 - accuracy: 0.9384\n"
          ]
        }
      ]
    },
    {
      "cell_type": "code",
      "source": [
        "import seaborn as sns\n",
        "from matplotlib import pyplot\n",
        "sns.set()\n",
        "fig = pyplot.figure(0, (12, 4))\n",
        "\n",
        "ax = pyplot.subplot(1, 2, 1)\n",
        "sns.lineplot(history.epoch, history.history['accuracy'], label='train')\n",
        "sns.lineplot(history.epoch, history.history['val_accuracy'], label='valid')\n",
        "pyplot.title('Accuracy')\n",
        "pyplot.tight_layout()\n",
        "\n",
        "ax = pyplot.subplot(1, 2, 2)\n",
        "sns.lineplot(history.epoch, history.history['loss'], label='train')\n",
        "sns.lineplot(history.epoch, history.history['val_loss'], label='valid')\n",
        "pyplot.title('Loss')\n",
        "pyplot.tight_layout()\n",
        "\n",
        "pyplot.savefig('epoch_history_1.png')\n",
        "pyplot.show()"
      ],
      "metadata": {
        "colab": {
          "base_uri": "https://localhost:8080/",
          "height": 540
        },
        "id": "kSodF6N8MIMk",
        "outputId": "0d79fdde-e8cc-44cd-b25f-16ad0245ed6e"
      },
      "execution_count": null,
      "outputs": [
        {
          "output_type": "stream",
          "name": "stderr",
          "text": [
            "/usr/local/lib/python3.7/dist-packages/seaborn/_decorators.py:43: FutureWarning: Pass the following variables as keyword args: x, y. From version 0.12, the only valid positional argument will be `data`, and passing other arguments without an explicit keyword will result in an error or misinterpretation.\n",
            "  FutureWarning\n"
          ]
        },
        {
          "output_type": "error",
          "ename": "KeyError",
          "evalue": "ignored",
          "traceback": [
            "\u001b[0;31m---------------------------------------------------------------------------\u001b[0m",
            "\u001b[0;31mKeyError\u001b[0m                                  Traceback (most recent call last)",
            "\u001b[0;32m<ipython-input-26-b1f6ace7dbaf>\u001b[0m in \u001b[0;36m<module>\u001b[0;34m()\u001b[0m\n\u001b[1;32m      6\u001b[0m \u001b[0max\u001b[0m \u001b[0;34m=\u001b[0m \u001b[0mpyplot\u001b[0m\u001b[0;34m.\u001b[0m\u001b[0msubplot\u001b[0m\u001b[0;34m(\u001b[0m\u001b[0;36m1\u001b[0m\u001b[0;34m,\u001b[0m \u001b[0;36m2\u001b[0m\u001b[0;34m,\u001b[0m \u001b[0;36m1\u001b[0m\u001b[0;34m)\u001b[0m\u001b[0;34m\u001b[0m\u001b[0;34m\u001b[0m\u001b[0m\n\u001b[1;32m      7\u001b[0m \u001b[0msns\u001b[0m\u001b[0;34m.\u001b[0m\u001b[0mlineplot\u001b[0m\u001b[0;34m(\u001b[0m\u001b[0mhistory\u001b[0m\u001b[0;34m.\u001b[0m\u001b[0mepoch\u001b[0m\u001b[0;34m,\u001b[0m \u001b[0mhistory\u001b[0m\u001b[0;34m.\u001b[0m\u001b[0mhistory\u001b[0m\u001b[0;34m[\u001b[0m\u001b[0;34m'accuracy'\u001b[0m\u001b[0;34m]\u001b[0m\u001b[0;34m,\u001b[0m \u001b[0mlabel\u001b[0m\u001b[0;34m=\u001b[0m\u001b[0;34m'train'\u001b[0m\u001b[0;34m)\u001b[0m\u001b[0;34m\u001b[0m\u001b[0;34m\u001b[0m\u001b[0m\n\u001b[0;32m----> 8\u001b[0;31m \u001b[0msns\u001b[0m\u001b[0;34m.\u001b[0m\u001b[0mlineplot\u001b[0m\u001b[0;34m(\u001b[0m\u001b[0mhistory\u001b[0m\u001b[0;34m.\u001b[0m\u001b[0mepoch\u001b[0m\u001b[0;34m,\u001b[0m \u001b[0mhistory\u001b[0m\u001b[0;34m.\u001b[0m\u001b[0mhistory\u001b[0m\u001b[0;34m[\u001b[0m\u001b[0;34m'val_accuracy'\u001b[0m\u001b[0;34m]\u001b[0m\u001b[0;34m,\u001b[0m \u001b[0mlabel\u001b[0m\u001b[0;34m=\u001b[0m\u001b[0;34m'valid'\u001b[0m\u001b[0;34m)\u001b[0m\u001b[0;34m\u001b[0m\u001b[0;34m\u001b[0m\u001b[0m\n\u001b[0m\u001b[1;32m      9\u001b[0m \u001b[0mpyplot\u001b[0m\u001b[0;34m.\u001b[0m\u001b[0mtitle\u001b[0m\u001b[0;34m(\u001b[0m\u001b[0;34m'Accuracy'\u001b[0m\u001b[0;34m)\u001b[0m\u001b[0;34m\u001b[0m\u001b[0;34m\u001b[0m\u001b[0m\n\u001b[1;32m     10\u001b[0m \u001b[0mpyplot\u001b[0m\u001b[0;34m.\u001b[0m\u001b[0mtight_layout\u001b[0m\u001b[0;34m(\u001b[0m\u001b[0;34m)\u001b[0m\u001b[0;34m\u001b[0m\u001b[0;34m\u001b[0m\u001b[0m\n",
            "\u001b[0;31mKeyError\u001b[0m: 'val_accuracy'"
          ]
        },
        {
          "output_type": "display_data",
          "data": {
            "text/plain": [
              "<Figure size 864x288 with 1 Axes>"
            ],
            "image/png": "[encoded data removed]"
          },
          "metadata": {}
        }
      ]
    },
    {
      "cell_type": "code",
      "metadata": {
        "id": "Ue9rZLsZB61T"
      },
      "source": [
        "#model.save(\"/content/drive/My Drive/Diplom96nevBN224contrast\")"
      ],
      "execution_count": null,
      "outputs": []
    },
    {
      "cell_type": "code",
      "metadata": {
        "id": "m6ciYDO3dh9F"
      },
      "source": [
        "#model = keras.models.load_model('/content/drive/My Drive/Diplom96nevBN')"
      ],
      "execution_count": null,
      "outputs": []
    },
    {
      "cell_type": "code",
      "metadata": {
        "id": "9TRFySUI-kS5"
      },
      "source": [
        "predIdxs = model.predict(test_data)\n",
        "predIdxs = np.argmax(predIdxs,axis=1)"
      ],
      "execution_count": null,
      "outputs": []
    },
    {
      "cell_type": "code",
      "metadata": {
        "colab": {
          "base_uri": "https://localhost:8080/"
        },
        "id": "raZ0d5KtGMcO",
        "outputId": "c172d07c-39fc-4490-a570-7298d6c4df21"
      },
      "source": [
        "from sklearn.metrics import confusion_matrix\n",
        "cm=confusion_matrix(test_labels, predIdxs, labels =[0, 1, 2])\n",
        "print(cm.shape)\n",
        "print(cm)"
      ],
      "execution_count": null,
      "outputs": [
        {
          "name": "stdout",
          "output_type": "stream",
          "text": [
            "(3, 3)\n",
            "[[ 631  108    4]\n",
            " [  81 1346    1]\n",
            " [   1    0  639]]\n"
          ]
        }
      ]
    },
    {
      "cell_type": "code",
      "metadata": {
        "id": "NBRPAAH8u1iO"
      },
      "source": [
        "#model.save(\"/content/drive/My Drive/Diplom96nevBN\")"
      ],
      "execution_count": null,
      "outputs": []
    },
    {
      "cell_type": "code",
      "metadata": {
        "colab": {
          "base_uri": "https://localhost:8080/"
        },
        "id": "xQeuJevmGO5G",
        "outputId": "a9de7cda-f51f-4571-d8e8-92e6e3aec51d"
      },
      "source": [
        "tp_normal = cm[1][1]\n",
        "tp_pneumonia = cm[2][2]\n",
        "tp_covid = cm[0][0]\n",
        "\n",
        "fn_normal = cm[1][0] + cm[1][2]\n",
        "fn_pneumonia = cm[2][0] + cm[2][1]\n",
        "fn_covid = cm[0][1] + cm[0][2]\n",
        "\n",
        "fp_normal = cm[0][1] + cm[2][1]\n",
        "fp_pneumonia = cm[0][2] + cm[1][2]\n",
        "fp_covid = cm[1][0] + cm[2][0]\n",
        "\n",
        "precision_normal = tp_normal/(tp_normal+fp_normal)*100\n",
        "precision_pneumonia = tp_pneumonia/(tp_pneumonia+fp_pneumonia)*100\n",
        "precision_covid = tp_covid/(tp_covid+fp_covid)*100\n",
        "\n",
        "recall_normal = tp_normal/(tp_normal+fn_normal)*100\n",
        "recall_pneumonia = tp_pneumonia/(tp_pneumonia+fn_pneumonia)*100\n",
        "recall_covid = tp_covid/(tp_covid+fn_covid)*100\n",
        "\n",
        "print('Precision NORMAL: {}%'.format(precision_normal))\n",
        "print('Recall NORMAL: {}%'.format(recall_normal))\n",
        "print('F1-score NORMAL: {}'.format(2*precision_normal*recall_normal/(precision_normal+recall_normal)))\n",
        "print()\n",
        "print('Precision PNEUMONIA: {}%'.format(precision_pneumonia))\n",
        "print('Recall PNEUMONIA: {}%'.format(recall_pneumonia))\n",
        "print('F1-score PNEUMONIA: {}'.format(2*precision_pneumonia*recall_pneumonia/(precision_pneumonia+recall_pneumonia)))\n",
        "print()\n",
        "print('Precision COVID: {}%'.format(precision_covid))\n",
        "print('Recall COVID: {}%'.format(recall_covid))\n",
        "print('F1-score COVID: {}'.format(2*precision_covid*recall_covid/(precision_covid+recall_covid)))"
      ],
      "execution_count": null,
      "outputs": [
        {
          "name": "stdout",
          "output_type": "stream",
          "text": [
            "Precision NORMAL: 92.57221458046767%\n",
            "Recall NORMAL: 94.25770308123249%\n",
            "F1-score NORMAL: 93.40735600277584\n",
            "\n",
            "Precision PNEUMONIA: 99.22360248447205%\n",
            "Recall PNEUMONIA: 99.84375%\n",
            "F1-score PNEUMONIA: 99.53271028037383\n",
            "\n",
            "Precision COVID: 88.49929873772791%\n",
            "Recall COVID: 84.92597577388963%\n",
            "F1-score COVID: 86.67582417582418\n"
          ]
        }
      ]
    },
    {
      "cell_type": "code",
      "metadata": {
        "id": "H62iJvWcK1e5"
      },
      "source": [
        "#model.save(\"/content/drive/My Drive/Diplom96nev\")"
      ],
      "execution_count": null,
      "outputs": []
    },
    {
      "cell_type": "code",
      "metadata": {
        "id": "CkwvGO3uu1nI"
      },
      "source": [
        "history = model.fit(\n",
        "            train_gen, steps_per_epoch=train_gen.samples // batch_size, \n",
        "            epochs=3, callbacks=[lr_finder],\n",
        "            class_weight=class_weight)"
      ],
      "execution_count": null,
      "outputs": []
    },
    {
      "cell_type": "code",
      "metadata": {
        "id": "aOr8uU2j2zS-"
      },
      "source": [
        "model.trainable = True\n",
        "for layer in model.layers:\n",
        "  layer.trainable = True\n",
        "for layer in model.layers:\n",
        "  if 'conv3' in layer.name:\n",
        "    break\n",
        "  else:\n",
        "    layer.trainable = False\n",
        "epochs = 10\n",
        "model.compile(optimizer=Adam(learning_rate = 1e-3),loss='categorical_crossentropy', metrics=['accuracy'])"
      ],
      "execution_count": null,
      "outputs": []
    },
    {
      "cell_type": "code",
      "metadata": {
        "id": "dTmIH1Tz3TI9"
      },
      "source": [
        "opt = Adam(learning_rate=1e-3)\n",
        "class_weight = {1: 1.0,\n",
        "               2: 2.4,\n",
        "                0: 1.8}\n",
        "es = tf.keras.callbacks.EarlyStopping(monitor=\"val_loss\", min_delta=0.01, patience=2)\n",
        "lr_reduce = ReduceLROnPlateau(monitor='loss', factor=0.3, patience=2)"
      ],
      "execution_count": null,
      "outputs": []
    },
    {
      "cell_type": "code",
      "metadata": {
        "colab": {
          "base_uri": "https://localhost:8080/"
        },
        "id": "2mdRKw4Q2_aV",
        "outputId": "e1f14151-ca85-4471-9928-9d62dd352d65"
      },
      "source": [
        "history = model.fit(\n",
        "            train_gen, steps_per_epoch=train_gen.samples // batch_size, \n",
        "            epochs=10, validation_data=test_gen, \n",
        "            validation_steps=test_gen.samples // batch_size, callbacks=[lr_reduce],\n",
        "            class_weight=class_weight)"
      ],
      "execution_count": null,
      "outputs": [
        {
          "name": "stdout",
          "output_type": "stream",
          "text": [
            "Epoch 1/10\n",
            "254/254 [==============================] - 468s 2s/step - loss: 0.0882 - accuracy: 0.9771 - val_loss: 0.0504 - val_accuracy: 0.9829 - lr: 0.0010\n",
            "Epoch 2/10\n",
            "254/254 [==============================] - 466s 2s/step - loss: 0.0821 - accuracy: 0.9789 - val_loss: 0.0673 - val_accuracy: 0.9764 - lr: 0.0010\n",
            "Epoch 3/10\n",
            "254/254 [==============================] - 468s 2s/step - loss: 0.0804 - accuracy: 0.9783 - val_loss: 0.5161 - val_accuracy: 0.7998 - lr: 0.0010\n",
            "Epoch 4/10\n",
            "254/254 [==============================] - 467s 2s/step - loss: 0.0722 - accuracy: 0.9811 - val_loss: 0.2873 - val_accuracy: 0.9004 - lr: 0.0010\n",
            "Epoch 5/10\n",
            "254/254 [==============================] - 467s 2s/step - loss: 0.0660 - accuracy: 0.9823 - val_loss: 0.1378 - val_accuracy: 0.9448 - lr: 0.0010\n",
            "Epoch 6/10\n",
            "254/254 [==============================] - 460s 2s/step - loss: 0.0667 - accuracy: 0.9832 - val_loss: 0.0947 - val_accuracy: 0.9706 - lr: 0.0010\n",
            "Epoch 7/10\n",
            "254/254 [==============================] - 457s 2s/step - loss: 0.0541 - accuracy: 0.9866 - val_loss: 0.1559 - val_accuracy: 0.9517 - lr: 0.0010\n",
            "Epoch 8/10\n",
            "254/254 [==============================] - 456s 2s/step - loss: 0.0533 - accuracy: 0.9863 - val_loss: 1.3406 - val_accuracy: 0.6886 - lr: 0.0010\n",
            "Epoch 9/10\n",
            "254/254 [==============================] - 456s 2s/step - loss: 0.0562 - accuracy: 0.9869 - val_loss: 0.2828 - val_accuracy: 0.9073 - lr: 0.0010\n",
            "Epoch 10/10\n",
            "254/254 [==============================] - 457s 2s/step - loss: 0.0375 - accuracy: 0.9900 - val_loss: 0.0619 - val_accuracy: 0.9811 - lr: 0.0010\n"
          ]
        }
      ]
    },
    {
      "cell_type": "code",
      "metadata": {
        "id": "8jaNwFYKWHy_"
      },
      "source": [
        "predIdxs = model.predict(test_data)\n",
        "predIdxs = np.argmax(predIdxs,axis=1)"
      ],
      "execution_count": null,
      "outputs": []
    },
    {
      "cell_type": "code",
      "metadata": {
        "colab": {
          "base_uri": "https://localhost:8080/"
        },
        "id": "SEom1LZHvX9O",
        "outputId": "56594da3-6cac-42d5-e869-896de5890c33"
      },
      "source": [
        "cm=confusion_matrix(test_labels, predIdxs, labels =[0, 1, 2])\n",
        "print(cm.shape)\n",
        "print(cm)"
      ],
      "execution_count": null,
      "outputs": [
        {
          "name": "stdout",
          "output_type": "stream",
          "text": [
            "(3, 3)\n",
            "[[ 680   52   11]\n",
            " [  25 1403    0]\n",
            " [   0    0  640]]\n"
          ]
        }
      ]
    },
    {
      "cell_type": "code",
      "metadata": {
        "colab": {
          "base_uri": "https://localhost:8080/"
        },
        "id": "wrnjBMaaCdhO",
        "outputId": "5f485910-0ce8-48ef-f77d-0dea8acba39c"
      },
      "source": [
        "tp_normal = cm[1][1]\n",
        "tp_pneumonia = cm[2][2]\n",
        "tp_covid = cm[0][0]\n",
        "\n",
        "fn_normal = cm[1][0] + cm[1][2]\n",
        "fn_pneumonia = cm[2][0] + cm[2][1]\n",
        "fn_covid = cm[0][1] + cm[0][2]\n",
        "\n",
        "fp_normal = cm[0][1] + cm[2][1]\n",
        "fp_pneumonia = cm[0][2] + cm[1][2]\n",
        "fp_covid = cm[1][0] + cm[2][0]\n",
        "\n",
        "precision_normal = tp_normal/(tp_normal+fp_normal)*100\n",
        "precision_pneumonia = tp_pneumonia/(tp_pneumonia+fp_pneumonia)*100\n",
        "precision_covid = tp_covid/(tp_covid+fp_covid)*100\n",
        "\n",
        "recall_normal = tp_normal/(tp_normal+fn_normal)*100\n",
        "recall_pneumonia = tp_pneumonia/(tp_pneumonia+fn_pneumonia)*100\n",
        "recall_covid = tp_covid/(tp_covid+fn_covid)*100\n",
        "\n",
        "print('Precision NORMAL: {}%'.format(precision_normal))\n",
        "print('Recall NORMAL: {}%'.format(recall_normal))\n",
        "print('F1-score NORMAL: {}'.format(2*precision_normal*recall_normal/(precision_normal+recall_normal)))\n",
        "print()\n",
        "print('Precision PNEUMONIA: {}%'.format(precision_pneumonia))\n",
        "print('Recall PNEUMONIA: {}%'.format(recall_pneumonia))\n",
        "print('F1-score PNEUMONIA: {}'.format(2*precision_pneumonia*recall_pneumonia/(precision_pneumonia+recall_pneumonia)))\n",
        "print()\n",
        "print('Precision COVID: {}%'.format(precision_covid))\n",
        "print('Recall COVID: {}%'.format(recall_covid))\n",
        "print('F1-score COVID: {}'.format(2*precision_covid*recall_covid/(precision_covid+recall_covid)))"
      ],
      "execution_count": null,
      "outputs": [
        {
          "name": "stdout",
          "output_type": "stream",
          "text": [
            "Precision NORMAL: 96.42611683848797%\n",
            "Recall NORMAL: 98.24929971988794%\n",
            "F1-score NORMAL: 97.32917100242803\n",
            "\n",
            "Precision PNEUMONIA: 98.31029185867895%\n",
            "Recall PNEUMONIA: 100.0%\n",
            "F1-score PNEUMONIA: 99.14794732765297\n",
            "\n",
            "Precision COVID: 96.45390070921985%\n",
            "Recall COVID: 91.52086137281292%\n",
            "F1-score COVID: 93.92265193370163\n"
          ]
        }
      ]
    },
    {
      "cell_type": "code",
      "metadata": {
        "colab": {
          "base_uri": "https://localhost:8080/"
        },
        "id": "sf0BW3u-Wk1P",
        "outputId": "164e153e-bf81-45e8-e179-9e54ca359429"
      },
      "source": [
        "#model.save(\"/content/drive/My Drive/Diplom96nevBN224contrast\")"
      ],
      "execution_count": null,
      "outputs": [
        {
          "name": "stdout",
          "output_type": "stream",
          "text": [
            "INFO:tensorflow:Assets written to: /content/drive/My Drive/Diplom96nevBN224contrast/assets\n"
          ]
        }
      ]
    },
    {
      "cell_type": "code",
      "metadata": {
        "id": "5FdSnyaHA3ZR"
      },
      "source": [
        "#model.save(\"/content/drive/My Drive/Diplom96nevG2\")"
      ],
      "execution_count": null,
      "outputs": []
    },
    {
      "cell_type": "code",
      "metadata": {
        "id": "4Sljo5i5rJbo"
      },
      "source": [
        "model = keras.models.load_model('/content/drive/My Drive/Diplom96nevBN224')"
      ],
      "execution_count": null,
      "outputs": []
    },
    {
      "cell_type": "code",
      "metadata": {
        "id": "nk862RkSsAdf"
      },
      "source": [
        "predIdxs = model.predict(test_data)\n",
        "predIdxs = np.argmax(predIdxs,axis=1)"
      ],
      "execution_count": null,
      "outputs": []
    },
    {
      "cell_type": "code",
      "metadata": {
        "colab": {
          "base_uri": "https://localhost:8080/"
        },
        "id": "kJwt2sWcDs3w",
        "outputId": "bdc93c6d-fda2-4e09-d65b-18aa7fc6690e"
      },
      "source": [
        "cm=confusion_matrix(test_labels, predIdxs, labels =[0, 1, 2])\n",
        "print(cm.shape)\n",
        "print(cm)"
      ],
      "execution_count": null,
      "outputs": [
        {
          "output_type": "stream",
          "name": "stdout",
          "text": [
            "(3, 3)\n",
            "[[ 728   10    5]\n",
            " [   4 1424    0]\n",
            " [   0    0  640]]\n"
          ]
        }
      ]
    },
    {
      "cell_type": "code",
      "metadata": {
        "colab": {
          "base_uri": "https://localhost:8080/"
        },
        "id": "9uDLG2ZNDyUu",
        "outputId": "28782142-c7d4-4a44-f769-c48c4a76c371"
      },
      "source": [
        "tp_normal = cm[1][1]\n",
        "tp_pneumonia = cm[2][2]\n",
        "tp_covid = cm[0][0]\n",
        "\n",
        "fn_normal = cm[1][0] + cm[1][2]\n",
        "fn_pneumonia = cm[2][0] + cm[2][1]\n",
        "fn_covid = cm[0][1] + cm[0][2]\n",
        "\n",
        "fp_normal = cm[0][1] + cm[2][1]\n",
        "fp_pneumonia = cm[0][2] + cm[1][2]\n",
        "fp_covid = cm[1][0] + cm[2][0]\n",
        "\n",
        "precision_normal = tp_normal/(tp_normal+fp_normal)*100\n",
        "precision_pneumonia = tp_pneumonia/(tp_pneumonia+fp_pneumonia)*100\n",
        "precision_covid = tp_covid/(tp_covid+fp_covid)*100\n",
        "\n",
        "recall_normal = tp_normal/(tp_normal+fn_normal)*100\n",
        "recall_pneumonia = tp_pneumonia/(tp_pneumonia+fn_pneumonia)*100\n",
        "recall_covid = tp_covid/(tp_covid+fn_covid)*100\n",
        "\n",
        "print('Precision NORMAL: {}%'.format(precision_normal))\n",
        "print('Recall NORMAL: {}%'.format(recall_normal))\n",
        "print('F1-score NORMAL: {}'.format(2*precision_normal*recall_normal/(precision_normal+recall_normal)))\n",
        "print()\n",
        "print('Precision PNEUMONIA: {}%'.format(precision_pneumonia))\n",
        "print('Recall PNEUMONIA: {}%'.format(recall_pneumonia))\n",
        "print('F1-score PNEUMONIA: {}'.format(2*precision_pneumonia*recall_pneumonia/(precision_pneumonia+recall_pneumonia)))\n",
        "print()\n",
        "print('Precision COVID: {}%'.format(precision_covid))\n",
        "print('Recall COVID: {}%'.format(recall_covid))\n",
        "print('F1-score COVID: {}'.format(2*precision_covid*recall_covid/(precision_covid+recall_covid)))\n",
        "print()\n",
        "print('Accuracy NORMAL: {}%'.format(100*cm[1][1]/1428))\n",
        "print('Accuracy PNEUMONIA: {}%'.format(100*cm[2][2]/640))\n",
        "print('Accuracy COVID: {}%'.format(100*cm[0][0]/743))"
      ],
      "execution_count": null,
      "outputs": [
        {
          "output_type": "stream",
          "name": "stdout",
          "text": [
            "Precision NORMAL: 99.30264993026499%\n",
            "Recall NORMAL: 99.71988795518207%\n",
            "F1-score NORMAL: 99.5108315863033\n",
            "\n",
            "Precision PNEUMONIA: 99.2248062015504%\n",
            "Recall PNEUMONIA: 100.0%\n",
            "F1-score PNEUMONIA: 99.61089494163426\n",
            "\n",
            "Precision COVID: 99.4535519125683%\n",
            "Recall COVID: 97.98115746971736%\n",
            "F1-score COVID: 98.71186440677965\n",
            "\n",
            "Accuracy NORMAL: 99.71988795518207%\n",
            "Accuracy PNEUMONIA: 100.0%\n",
            "Accuracy COVID: 97.98115746971736%\n"
          ]
        }
      ]
    },
    {
      "cell_type": "code",
      "metadata": {
        "colab": {
          "base_uri": "https://localhost:8080/",
          "height": 280
        },
        "id": "hlAniP5SdPMG",
        "outputId": "3d17184e-5339-4e6b-845d-5f0c27cb637d"
      },
      "source": [
        "import seaborn as sns\n",
        "ax = sns.heatmap(cm, annot=True, fmt=\".0f\", cmap=\"Blues\", xticklabels=[\"NORMAL\", \"PNEUMONIA\", \"COVID\"], yticklabels=[\"NORMAL\", \"PNEUMONIA\", \"COVID\"])\n",
        "ax.set_xlabel('Predicted')\n",
        "ax.set_ylabel('Actual');"
      ],
      "execution_count": null,
      "outputs": [
        {
          "output_type": "display_data",
          "data": {
            "image/png": "[encoded data removed]",
            "text/plain": [
              "<Figure size 432x288 with 2 Axes>"
            ]
          },
          "metadata": {
            "needs_background": "light"
          }
        }
      ]
    },
    {
      "cell_type": "code",
      "metadata": {
        "id": "CSXeC0bv60Bn"
      },
      "source": [
        "def process_data2(img_dims, batch_size):\n",
        "    # Data generation objects\n",
        "    test_data = []\n",
        "    test_labels = []\n",
        "    #, '/NORMAL/', '/PNEUMONIA/'\n",
        "    for cond in ['/COVID/', '/NORMAL/', '/PNEUMONIA/']:\n",
        "        for img in (os.listdir(input_path + '/' + 'test' + cond)):\n",
        "            img = cv2.imread(input_path+ '/' + 'test'+cond+img)\n",
        "            img = cv2.resize(img, (img_dims, img_dims))\n",
        "            #img = change_contrast(img)\n",
        "            if cond=='/NORMAL/':\n",
        "                label = 1\n",
        "            elif cond=='/PNEUMONIA/':\n",
        "                label = 2\n",
        "            elif cond=='/COVID/':\n",
        "                label = 0\n",
        "            test_data.append(img)\n",
        "            test_labels.append(label)\n",
        "        \n",
        "    test_data = np.array(test_data) / 255.0\n",
        "    test_labels = np.array(test_labels)\n",
        "    \n",
        "    return test_data, test_labels"
      ],
      "execution_count": null,
      "outputs": []
    },
    {
      "cell_type": "code",
      "metadata": {
        "id": "Hgbcy7kO7A34"
      },
      "source": [
        "img_dims = 224\n",
        "test_data, test_labels = process_data2(img_dims, 64)"
      ],
      "execution_count": null,
      "outputs": []
    },
    {
      "cell_type": "code",
      "metadata": {
        "id": "VRkZC9N-72pe"
      },
      "source": [
        "model = keras.models.load_model('/content/drive/My Drive/Diplom96nevBN224')"
      ],
      "execution_count": null,
      "outputs": []
    },
    {
      "cell_type": "code",
      "metadata": {
        "id": "bpkonc818agF"
      },
      "source": [
        "pip install lime"
      ],
      "execution_count": null,
      "outputs": []
    },
    {
      "cell_type": "code",
      "metadata": {
        "id": "J1w2C81Z-WK5"
      },
      "source": [
        "from keras.applications.imagenet_utils import decode_predictions"
      ],
      "execution_count": null,
      "outputs": []
    },
    {
      "cell_type": "code",
      "metadata": {
        "id": "uJGOHz21-HYu"
      },
      "source": [
        "preds = model.predict(test_data)"
      ],
      "execution_count": null,
      "outputs": []
    },
    {
      "cell_type": "code",
      "metadata": {
        "id": "SivXnUGZ_9jd"
      },
      "source": [
        "predIdxs = np.argmax(preds,axis=1)"
      ],
      "execution_count": null,
      "outputs": []
    },
    {
      "cell_type": "code",
      "source": [
        "cm=confusion_matrix(test_labels, predIdxs, labels = [0, 1, 2])\n",
        "print(cm.shape)\n",
        "print(cm)"
      ],
      "metadata": {
        "colab": {
          "base_uri": "https://localhost:8080/"
        },
        "id": "QOwUpT63sxKL",
        "outputId": "a2e1bdd9-a09b-4a6a-f2c4-a8e944b98dcc"
      },
      "execution_count": null,
      "outputs": [
        {
          "output_type": "stream",
          "name": "stdout",
          "text": [
            "(3, 3)\n",
            "[[ 728   10    5]\n",
            " [   4 1424    0]\n",
            " [   0    0  640]]\n"
          ]
        }
      ]
    },
    {
      "cell_type": "code",
      "source": [
        "import seaborn as sns\n",
        "ax = sns.heatmap(cm, annot=True, fmt=\".0f\", cmap=\"Blues\", xticklabels=[\"Здоровые\", \"Пневмония\", \"COVID-19\"], yticklabels=[\"Здоровые\", \"Пневмония\", \"COVID-19\"])\n",
        "ax.set_xlabel('Предсказанные')\n",
        "ax.set_ylabel('На самом деле');"
      ],
      "metadata": {
        "colab": {
          "base_uri": "https://localhost:8080/",
          "height": 280
        },
        "id": "b4mvbjs-rqHE",
        "outputId": "e38c4340-0907-413a-d3c2-a2f255ec8368"
      },
      "execution_count": null,
      "outputs": [
        {
          "output_type": "display_data",
          "data": {
            "text/plain": [
              "<Figure size 432x288 with 2 Axes>"
            ],
            "image/png": "[encoded data removed]"
          },
          "metadata": {
            "needs_background": "light"
          }
        }
      ]
    },
    {
      "cell_type": "code",
      "metadata": {
        "id": "H-ybkfQmIDU_"
      },
      "source": [
        "from skimage.segmentation import mark_boundaries"
      ],
      "execution_count": null,
      "outputs": []
    },
    {
      "cell_type": "code",
      "metadata": {
        "id": "1_Qi5Y_sACY_"
      },
      "source": [
        "from lime import lime_image\n",
        "explainer = lime_image.LimeImageExplainer()\n",
        "explanation = explainer.explain_instance(test_data[3], model.predict, hide_color=0, num_samples=1000)"
      ],
      "execution_count": null,
      "outputs": []
    },
    {
      "cell_type": "code",
      "metadata": {
        "id": "M0BW2_0eB2WR"
      },
      "source": [
        "temp, mask = explanation.get_image_and_mask(0, positive_only=True, num_features=5, hide_rest=False)\n",
        "plt.imshow(mark_boundaries(temp ,mask))"
      ],
      "execution_count": null,
      "outputs": []
    }
  ]
}